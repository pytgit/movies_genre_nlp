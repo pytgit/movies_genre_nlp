{
 "cells": [
  {
   "cell_type": "code",
   "execution_count": 4,
   "metadata": {},
   "outputs": [],
   "source": [
    "import pandas as pd\n",
    "import numpy as np\n",
    "import matplotlib.pyplot as plt\n",
    "from nltk.sentiment import SentimentIntensityAnalyzer\n",
    "\n",
    "# to track time\n",
    "from time import time\n",
    "\n",
    "from sklearn.model_selection import train_test_split\n",
    "\n",
    "from collections import Counter"
   ]
  },
  {
   "cell_type": "markdown",
   "metadata": {},
   "source": [
    "# Get data from CSV"
   ]
  },
  {
   "cell_type": "code",
   "execution_count": 5,
   "metadata": {},
   "outputs": [],
   "source": [
    "df=pd.read_csv('../data/raw/wiki_movie_plots_deduped.csv')"
   ]
  },
  {
   "cell_type": "code",
   "execution_count": 6,
   "metadata": {},
   "outputs": [
    {
     "name": "stdout",
     "output_type": "stream",
     "text": [
      "<class 'pandas.core.frame.DataFrame'>\n",
      "RangeIndex: 34886 entries, 0 to 34885\n",
      "Data columns (total 8 columns):\n",
      "Release Year        34886 non-null int64\n",
      "Title               34886 non-null object\n",
      "Origin/Ethnicity    34886 non-null object\n",
      "Director            34886 non-null object\n",
      "Cast                33464 non-null object\n",
      "Genre               34886 non-null object\n",
      "Wiki Page           34886 non-null object\n",
      "Plot                34886 non-null object\n",
      "dtypes: int64(1), object(7)\n",
      "memory usage: 2.1+ MB\n"
     ]
    }
   ],
   "source": [
    "df.info()"
   ]
  },
  {
   "cell_type": "markdown",
   "metadata": {},
   "source": [
    "# Clean genre"
   ]
  },
  {
   "cell_type": "markdown",
   "metadata": {},
   "source": [
    "Number of original entries: 34886"
   ]
  },
  {
   "cell_type": "code",
   "execution_count": 7,
   "metadata": {},
   "outputs": [],
   "source": [
    "# how many with genre identified\n",
    "df2=df[df['Genre']!='unknown']\n",
    "df2=df2[df2['Genre']!='']"
   ]
  },
  {
   "cell_type": "code",
   "execution_count": 8,
   "metadata": {},
   "outputs": [
    {
     "name": "stdout",
     "output_type": "stream",
     "text": [
      "<class 'pandas.core.frame.DataFrame'>\n",
      "Int64Index: 28803 entries, 6 to 34885\n",
      "Data columns (total 8 columns):\n",
      "Release Year        28803 non-null int64\n",
      "Title               28803 non-null object\n",
      "Origin/Ethnicity    28803 non-null object\n",
      "Director            28803 non-null object\n",
      "Cast                28064 non-null object\n",
      "Genre               28803 non-null object\n",
      "Wiki Page           28803 non-null object\n",
      "Plot                28803 non-null object\n",
      "dtypes: int64(1), object(7)\n",
      "memory usage: 2.0+ MB\n"
     ]
    }
   ],
   "source": [
    "df2.info()"
   ]
  },
  {
   "cell_type": "markdown",
   "metadata": {},
   "source": [
    "Number of entries after removing unknown and empty genres: 28803"
   ]
  },
  {
   "cell_type": "code",
   "execution_count": 9,
   "metadata": {},
   "outputs": [
    {
     "name": "stdout",
     "output_type": "stream",
     "text": [
      "Number of genres before cleaning: 2264\n"
     ]
    }
   ],
   "source": [
    "print('Number of genres before cleaning: '+str(len(df2['Genre'].unique())))"
   ]
  },
  {
   "cell_type": "code",
   "execution_count": 10,
   "metadata": {},
   "outputs": [],
   "source": [
    "def clean_genre(genre):\n",
    "    genre.strip()\n",
    "    \n",
    "    #only take first genre in list\n",
    "    genre=genre.split(',')[0].strip()\n",
    "    genre=genre.split('/')[0].strip()\n",
    "    genre=genre.split('-')[0].strip()\n",
    "    \n",
    "    genre_word_set=set(genre.split())\n",
    "\n",
    "    if 'romance comedy' in genre:\n",
    "        genre='romantic comedy'\n",
    "    elif 'romantic comedy' in genre:\n",
    "        genre='romantic comedy'\n",
    "    elif set(['sci ', 'sci', 'science']).intersection(genre_word_set):\n",
    "        genre='science fiction'\n",
    "    elif set(['drama', 'dystopia', 'revenge','tragedy', 'fiction', 'exploitation', 'biodrama','lgbt','politics', 'docudrama', 'biographical', 'biography','dramedy','biopic','melodrama', 'social', 'political', 'mythology', 'folklore']).intersection(genre_word_set):\n",
    "        genre='drama'\n",
    "    elif set(['anim', 'anime','animation', 'animated']).intersection(genre_word_set):\n",
    "        genre='animated'\n",
    "    elif set(['martial', 'superheroes', 'jidaigeki','chambara','tokusatsu', 'sword','samurai', 'kung', 'wuxia', 'superhero', 'action', 'p.o.w.', 'war', 'wwi', 'wwii']).intersection(genre_word_set):\n",
    "        genre='action'\n",
    "    elif set(['rom', 'romcom']).intersection(genre_word_set):\n",
    "        genre='romantic comedy'\n",
    "    elif set(['comedy', 'comedey', 'spoof', 'standup', 'slapstick', 'parody', 'satire']).intersection(genre_word_set):\n",
    "        genre='comedy'\n",
    "    elif set(['horror', 'fore', 'vampire', 'slasher', 'slahser']).intersection(genre_word_set):\n",
    "        genre='horror'        \n",
    "    elif set(['fantasy', 'fairy','mythological']).intersection(genre_word_set):\n",
    "        genre='fantasy'        \n",
    "    elif set(['adventure', 'adventures', 'serial','disaster', 'kaiju', 'swashbuckler']).intersection(genre_word_set):\n",
    "        genre='adventure'  \n",
    "    elif set(['romance', 'love','romantic']).intersection(genre_word_set):\n",
    "        genre='romance'          \n",
    "    elif set(['suspense', 'supernatural','espionage','thriller', 'spy']).intersection(genre_word_set):\n",
    "        genre='thriller' \n",
    "    elif set(['mystery', 'mob','triad','heist', 'crime', 'cop','yakuza','gangster', 'noir', 'detective']).intersection(genre_word_set):\n",
    "        genre='crime'\n",
    "    elif set(['bio', 'costume','noir', 'period', 'shakespearean', 'histo', 'epic', 'history', 'historical']).intersection(genre_word_set):\n",
    "        genre='epic/historical'\n",
    "    elif set(['docu', 'footage','mockumentary', 'documentary']).intersection(genre_word_set):\n",
    "        genre='documentary'  \n",
    "    elif set(['music', 'opera', 'concert','operetta', 'musical','dance']).intersection(genre_word_set):\n",
    "        genre='musicals/dance'\n",
    "    elif set(['short']).intersection(genre_word_set):\n",
    "        genre='short'\n",
    "    elif set(['family', 'teen','children', 'children\\'s']).intersection(genre_word_set):\n",
    "        genre='family'\n",
    "    elif set(['erotica','sexual', 'sexploitation','porno', 'adult', 'erotic', 'ero']).intersection(genre_word_set):\n",
    "        genre='adult'\n",
    "    elif set(['ball', 'boxing', 'sport', 'sports']).intersection(genre_word_set):\n",
    "        genre='sports'\n",
    "    elif set(['devotional','religious', 'christian','biblical']).intersection(genre_word_set):\n",
    "        genre='drama'\n",
    "    elif set(['cowboy', 'western']).intersection(genre_word_set):\n",
    "        genre='western'  \n",
    "\n",
    "    return genre "
   ]
  },
  {
   "cell_type": "code",
   "execution_count": 11,
   "metadata": {
    "scrolled": true
   },
   "outputs": [],
   "source": [
    "# clean list of genre to reasonable list\n",
    "df2['Genre_c']=df['Genre'].apply(clean_genre)"
   ]
  },
  {
   "cell_type": "code",
   "execution_count": 12,
   "metadata": {},
   "outputs": [
    {
     "name": "stdout",
     "output_type": "stream",
     "text": [
      "Number of genres after cleaning: 179\n"
     ]
    }
   ],
   "source": [
    "print('Number of genres after cleaning: '+str(len(df2['Genre_c'].unique())))"
   ]
  },
  {
   "cell_type": "code",
   "execution_count": 13,
   "metadata": {},
   "outputs": [],
   "source": [
    "genre_cum_sum=df2['Genre_c'].value_counts().cumsum()"
   ]
  },
  {
   "cell_type": "code",
   "execution_count": 14,
   "metadata": {},
   "outputs": [
    {
     "data": {
      "text/plain": [
       "comedy             5996\n",
       "action             2704\n",
       "crime              1425\n",
       "horror             1378\n",
       "thriller           1369\n",
       "romance            1339\n",
       "western             905\n",
       "animated            859\n",
       "science fiction     792\n",
       "adventure           744\n",
       "musicals/dance      563\n",
       "romantic comedy     503\n",
       "family              341\n",
       "fantasy             322\n",
       "epic/historical     196\n",
       "documentary         120\n",
       "short                61\n",
       "adult                51\n",
       "sports               42\n",
       "Name: Genre_c, dtype: int64"
      ]
     },
     "execution_count": 14,
     "metadata": {},
     "output_type": "execute_result"
    }
   ],
   "source": [
    "df2['Genre_c'].value_counts()[1:20]"
   ]
  },
  {
   "cell_type": "code",
   "execution_count": 15,
   "metadata": {},
   "outputs": [],
   "source": [
    "threshold=df2['Title'].count()*0.95"
   ]
  },
  {
   "cell_type": "code",
   "execution_count": 16,
   "metadata": {},
   "outputs": [],
   "source": [
    "top_genres=genre_cum_sum[genre_cum_sum<threshold].index.values"
   ]
  },
  {
   "cell_type": "code",
   "execution_count": 17,
   "metadata": {},
   "outputs": [
    {
     "name": "stdout",
     "output_type": "stream",
     "text": [
      "Num of low_genre entries: 1923\n"
     ]
    }
   ],
   "source": [
    "print('Num of low_genre entries: '+str(df2[~df2['Genre_c'].isin(top_genres)]['Title'].count()))"
   ]
  },
  {
   "cell_type": "code",
   "execution_count": 18,
   "metadata": {},
   "outputs": [],
   "source": [
    "# drop categories that have low numbers (~95 percentile)\n",
    "df3=df2[df2['Genre_c'].isin(top_genres)]"
   ]
  },
  {
   "cell_type": "code",
   "execution_count": 19,
   "metadata": {},
   "outputs": [],
   "source": [
    "df3=df3[df3['Genre_c']!='']"
   ]
  },
  {
   "cell_type": "code",
   "execution_count": 20,
   "metadata": {},
   "outputs": [
    {
     "name": "stdout",
     "output_type": "stream",
     "text": [
      "Num of genre entries: 12\n"
     ]
    }
   ],
   "source": [
    "print('Num of genre entries: '+str(df3['Genre_c'].unique().size))"
   ]
  },
  {
   "cell_type": "code",
   "execution_count": 21,
   "metadata": {},
   "outputs": [
    {
     "name": "stdout",
     "output_type": "stream",
     "text": [
      "<class 'pandas.core.frame.DataFrame'>\n",
      "Int64Index: 26880 entries, 6 to 34885\n",
      "Data columns (total 9 columns):\n",
      "Release Year        26880 non-null int64\n",
      "Title               26880 non-null object\n",
      "Origin/Ethnicity    26880 non-null object\n",
      "Director            26880 non-null object\n",
      "Cast                26248 non-null object\n",
      "Genre               26880 non-null object\n",
      "Wiki Page           26880 non-null object\n",
      "Plot                26880 non-null object\n",
      "Genre_c             26880 non-null object\n",
      "dtypes: int64(1), object(8)\n",
      "memory usage: 2.1+ MB\n"
     ]
    }
   ],
   "source": [
    "df3.info()"
   ]
  },
  {
   "cell_type": "markdown",
   "metadata": {},
   "source": [
    "# Feature: Sentiment per sentence matrix"
   ]
  },
  {
   "cell_type": "code",
   "execution_count": 22,
   "metadata": {},
   "outputs": [],
   "source": [
    "vader_analyzer = SentimentIntensityAnalyzer()"
   ]
  },
  {
   "cell_type": "code",
   "execution_count": 23,
   "metadata": {},
   "outputs": [],
   "source": [
    "df3['sentiment']=df3['Plot'].apply(lambda x: [vader_analyzer.polarity_scores(sentence)['compound'] \n",
    "                                            for sentence in x.split('.')])"
   ]
  },
  {
   "cell_type": "code",
   "execution_count": 24,
   "metadata": {},
   "outputs": [
    {
     "name": "stdout",
     "output_type": "stream",
     "text": [
      "<class 'pandas.core.frame.DataFrame'>\n",
      "Int64Index: 26880 entries, 6 to 34885\n",
      "Data columns (total 10 columns):\n",
      "Release Year        26880 non-null int64\n",
      "Title               26880 non-null object\n",
      "Origin/Ethnicity    26880 non-null object\n",
      "Director            26880 non-null object\n",
      "Cast                26248 non-null object\n",
      "Genre               26880 non-null object\n",
      "Wiki Page           26880 non-null object\n",
      "Plot                26880 non-null object\n",
      "Genre_c             26880 non-null object\n",
      "sentiment           26880 non-null object\n",
      "dtypes: int64(1), object(9)\n",
      "memory usage: 2.3+ MB\n"
     ]
    }
   ],
   "source": [
    "df3.info()"
   ]
  },
  {
   "cell_type": "code",
   "execution_count": 25,
   "metadata": {},
   "outputs": [],
   "source": [
    "df3.to_pickle('../data/interim/cleaned_data.pkl')"
   ]
  },
  {
   "cell_type": "code",
   "execution_count": 26,
   "metadata": {},
   "outputs": [
    {
     "data": {
      "text/html": [
       "<div>\n",
       "<style scoped>\n",
       "    .dataframe tbody tr th:only-of-type {\n",
       "        vertical-align: middle;\n",
       "    }\n",
       "\n",
       "    .dataframe tbody tr th {\n",
       "        vertical-align: top;\n",
       "    }\n",
       "\n",
       "    .dataframe thead th {\n",
       "        text-align: right;\n",
       "    }\n",
       "</style>\n",
       "<table border=\"1\" class=\"dataframe\">\n",
       "  <thead>\n",
       "    <tr style=\"text-align: right;\">\n",
       "      <th></th>\n",
       "      <th>Release Year</th>\n",
       "      <th>Title</th>\n",
       "      <th>Origin/Ethnicity</th>\n",
       "      <th>Director</th>\n",
       "      <th>Cast</th>\n",
       "      <th>Genre</th>\n",
       "      <th>Wiki Page</th>\n",
       "      <th>Plot</th>\n",
       "      <th>Genre_c</th>\n",
       "      <th>sentiment</th>\n",
       "    </tr>\n",
       "  </thead>\n",
       "  <tbody>\n",
       "    <tr>\n",
       "      <th>6</th>\n",
       "      <td>1903</td>\n",
       "      <td>The Great Train Robbery</td>\n",
       "      <td>American</td>\n",
       "      <td>Edwin S. Porter</td>\n",
       "      <td>NaN</td>\n",
       "      <td>western</td>\n",
       "      <td>https://en.wikipedia.org/wiki/The_Great_Train_...</td>\n",
       "      <td>The film opens with two bandits breaking into ...</td>\n",
       "      <td>western</td>\n",
       "      <td>[-0.2263, 0.0, -0.1531, -0.765, 0.0, 0.09, 0.0...</td>\n",
       "    </tr>\n",
       "    <tr>\n",
       "      <th>7</th>\n",
       "      <td>1904</td>\n",
       "      <td>The Suburbanite</td>\n",
       "      <td>American</td>\n",
       "      <td>Wallace McCutcheon</td>\n",
       "      <td>NaN</td>\n",
       "      <td>comedy</td>\n",
       "      <td>https://en.wikipedia.org/wiki/The_Suburbanite</td>\n",
       "      <td>The film is about a family who move to the sub...</td>\n",
       "      <td>comedy</td>\n",
       "      <td>[0.4215, -0.8555, 0.0]</td>\n",
       "    </tr>\n",
       "    <tr>\n",
       "      <th>11</th>\n",
       "      <td>1906</td>\n",
       "      <td>From Leadville to Aspen: A Hold-Up in the Rockies</td>\n",
       "      <td>American</td>\n",
       "      <td>Francis J. Marion and Wallace McCutcheon</td>\n",
       "      <td>NaN</td>\n",
       "      <td>short action/crime western</td>\n",
       "      <td>https://en.wikipedia.org/wiki/From_Leadville_t...</td>\n",
       "      <td>The film features a train traveling through th...</td>\n",
       "      <td>action</td>\n",
       "      <td>[0.25, -0.2732, 0.0]</td>\n",
       "    </tr>\n",
       "    <tr>\n",
       "      <th>13</th>\n",
       "      <td>1907</td>\n",
       "      <td>Daniel Boone</td>\n",
       "      <td>American</td>\n",
       "      <td>Wallace McCutcheon and Ediwin S. Porter</td>\n",
       "      <td>William Craven, Florence Lawrence</td>\n",
       "      <td>biographical</td>\n",
       "      <td>https://en.wikipedia.org/wiki/Daniel_Boone_(19...</td>\n",
       "      <td>Boone's daughter befriends an Indian maiden as...</td>\n",
       "      <td>drama</td>\n",
       "      <td>[0.0, -0.6597, 0.0516, 0.0644, -0.0772, 0.0, -...</td>\n",
       "    </tr>\n",
       "    <tr>\n",
       "      <th>14</th>\n",
       "      <td>1907</td>\n",
       "      <td>How Brown Saw the Baseball Game</td>\n",
       "      <td>American</td>\n",
       "      <td>Unknown</td>\n",
       "      <td>Unknown</td>\n",
       "      <td>comedy</td>\n",
       "      <td>https://en.wikipedia.org/wiki/How_Brown_Saw_th...</td>\n",
       "      <td>Before heading out to a baseball game at a nea...</td>\n",
       "      <td>comedy</td>\n",
       "      <td>[0.3182, 0.0, 0.6486, 0.0, 0.4767, -0.6808, 0.0]</td>\n",
       "    </tr>\n",
       "  </tbody>\n",
       "</table>\n",
       "</div>"
      ],
      "text/plain": [
       "    Release Year                                              Title  \\\n",
       "6           1903                            The Great Train Robbery   \n",
       "7           1904                                    The Suburbanite   \n",
       "11          1906  From Leadville to Aspen: A Hold-Up in the Rockies   \n",
       "13          1907                                       Daniel Boone   \n",
       "14          1907                    How Brown Saw the Baseball Game   \n",
       "\n",
       "   Origin/Ethnicity                                  Director  \\\n",
       "6          American                           Edwin S. Porter   \n",
       "7          American                        Wallace McCutcheon   \n",
       "11         American  Francis J. Marion and Wallace McCutcheon   \n",
       "13         American   Wallace McCutcheon and Ediwin S. Porter   \n",
       "14         American                                   Unknown   \n",
       "\n",
       "                                 Cast                       Genre  \\\n",
       "6                                 NaN                     western   \n",
       "7                                 NaN                      comedy   \n",
       "11                                NaN  short action/crime western   \n",
       "13  William Craven, Florence Lawrence                biographical   \n",
       "14                            Unknown                      comedy   \n",
       "\n",
       "                                            Wiki Page  \\\n",
       "6   https://en.wikipedia.org/wiki/The_Great_Train_...   \n",
       "7       https://en.wikipedia.org/wiki/The_Suburbanite   \n",
       "11  https://en.wikipedia.org/wiki/From_Leadville_t...   \n",
       "13  https://en.wikipedia.org/wiki/Daniel_Boone_(19...   \n",
       "14  https://en.wikipedia.org/wiki/How_Brown_Saw_th...   \n",
       "\n",
       "                                                 Plot  Genre_c  \\\n",
       "6   The film opens with two bandits breaking into ...  western   \n",
       "7   The film is about a family who move to the sub...   comedy   \n",
       "11  The film features a train traveling through th...   action   \n",
       "13  Boone's daughter befriends an Indian maiden as...    drama   \n",
       "14  Before heading out to a baseball game at a nea...   comedy   \n",
       "\n",
       "                                            sentiment  \n",
       "6   [-0.2263, 0.0, -0.1531, -0.765, 0.0, 0.09, 0.0...  \n",
       "7                              [0.4215, -0.8555, 0.0]  \n",
       "11                               [0.25, -0.2732, 0.0]  \n",
       "13  [0.0, -0.6597, 0.0516, 0.0644, -0.0772, 0.0, -...  \n",
       "14   [0.3182, 0.0, 0.6486, 0.0, 0.4767, -0.6808, 0.0]  "
      ]
     },
     "execution_count": 26,
     "metadata": {},
     "output_type": "execute_result"
    }
   ],
   "source": [
    "df3.head()"
   ]
  },
  {
   "cell_type": "code",
   "execution_count": null,
   "metadata": {},
   "outputs": [],
   "source": []
  },
  {
   "cell_type": "code",
   "execution_count": null,
   "metadata": {},
   "outputs": [],
   "source": []
  }
 ],
 "metadata": {
  "kernelspec": {
   "display_name": "Python 3",
   "language": "python",
   "name": "python3"
  },
  "language_info": {
   "codemirror_mode": {
    "name": "ipython",
    "version": 3
   },
   "file_extension": ".py",
   "mimetype": "text/x-python",
   "name": "python",
   "nbconvert_exporter": "python",
   "pygments_lexer": "ipython3",
   "version": "3.6.8"
  },
  "toc": {
   "base_numbering": 1,
   "nav_menu": {},
   "number_sections": true,
   "sideBar": true,
   "skip_h1_title": false,
   "title_cell": "Table of Contents",
   "title_sidebar": "Contents",
   "toc_cell": false,
   "toc_position": {},
   "toc_section_display": true,
   "toc_window_display": true
  }
 },
 "nbformat": 4,
 "nbformat_minor": 2
}

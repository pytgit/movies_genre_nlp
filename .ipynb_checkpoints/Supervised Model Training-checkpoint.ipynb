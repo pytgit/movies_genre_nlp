{
 "cells": [
  {
   "cell_type": "markdown",
   "metadata": {},
   "source": [
    "# Set up"
   ]
  },
  {
   "cell_type": "code",
   "execution_count": 313,
   "metadata": {},
   "outputs": [],
   "source": [
    "import numpy as np\n",
    "import pickle\n",
    "import pandas as pd\n",
    "\n",
    "from collections import Counter\n",
    "\n",
    "# to track time\n",
    "from time import time\n",
    "\n",
    "# for modeling\n",
    "from sklearn.neighbors import KNeighborsClassifier\n",
    "from sklearn import naive_bayes\n",
    "from sklearn.ensemble import RandomForestClassifier\n",
    "from sklearn.ensemble import GradientBoostingClassifier  #GBM algorithm\n",
    "from sklearn.naive_bayes import MultinomialNB\n",
    "\n",
    "# for pipeline\n",
    "from sklearn.model_selection import GridSearchCV, train_test_split, cross_val_predict, RandomizedSearchCV\n",
    "\n",
    "# for evaluation\n",
    "from sklearn import metrics\n",
    "from sklearn.metrics import confusion_matrix, accuracy_score, classification_report, f1_score\n",
    "\n",
    "# for basic plotting\n",
    "import matplotlib.pyplot as plt\n",
    "%matplotlib inline\n",
    "\n",
    "# for sampling\n",
    "from imblearn.over_sampling import RandomOverSampler\n",
    "from imblearn.pipeline import Pipeline as imbPipeline"
   ]
  },
  {
   "cell_type": "markdown",
   "metadata": {},
   "source": [
    "# Read data for modeling"
   ]
  },
  {
   "cell_type": "code",
   "execution_count": 198,
   "metadata": {},
   "outputs": [],
   "source": [
    "# Merged data with NMF topics\n",
    "df=pd.read_pickle('../data/processed/model_training.pkl')"
   ]
  },
  {
   "cell_type": "code",
   "execution_count": 304,
   "metadata": {},
   "outputs": [],
   "source": [
    "# Merged data with LSA topics\n",
    "df_lsa=pd.read_pickle('../data/processed/model_training_lsa.pkl')"
   ]
  },
  {
   "cell_type": "markdown",
   "metadata": {},
   "source": [
    "# Check for class imbalance"
   ]
  },
  {
   "cell_type": "code",
   "execution_count": 199,
   "metadata": {},
   "outputs": [
    {
     "data": {
      "text/plain": [
       "Index(['Release Year', 'Title', 'Origin/Ethnicity', 'Director', 'Cast',\n",
       "       'Genre', 'Wiki Page', 'Plot', 'Genre_c', 'sentiment', 'genre_weights',\n",
       "       'entities', 'topic0', 'topic1', 'topic2', 'topic3', 'topic4', 'topic5',\n",
       "       'topic6', 'topic7', 'topic8', 'topic9', 'topic10', 'topic11', 'topic12',\n",
       "       'topic13', 'topic14', 'topic15', 'topic16', 'topic17', 'topic18',\n",
       "       'topic19', 'topic20', 'topic21', 'topic22', 'topic23', 'topic24',\n",
       "       'avg sentiment'],\n",
       "      dtype='object')"
      ]
     },
     "execution_count": 199,
     "metadata": {},
     "output_type": "execute_result"
    }
   ],
   "source": [
    "df.columns"
   ]
  },
  {
   "cell_type": "code",
   "execution_count": 200,
   "metadata": {},
   "outputs": [
    {
     "data": {
      "image/png": "[encoded data removed]",
      "text/plain": [
       "<Figure size 432x288 with 1 Axes>"
      ]
     },
     "metadata": {
      "needs_background": "light"
     },
     "output_type": "display_data"
    }
   ],
   "source": [
    "counts=df.Genre_c.value_counts()\n",
    "counts.plot(kind='bar', title='Genre Count', rot=0);"
   ]
  },
  {
   "cell_type": "code",
   "execution_count": 129,
   "metadata": {},
   "outputs": [
    {
     "data": {
      "text/plain": [
       "drama              1242\n",
       "comedy             1215\n",
       "action             1048\n",
       "crime               862\n",
       "thriller            850\n",
       "romance             829\n",
       "horror              815\n",
       "western             694\n",
       "animated            693\n",
       "science fiction     636\n",
       "adventure           608\n",
       "musicals/dance      508\n",
       "Name: Genre_c, dtype: int64"
      ]
     },
     "execution_count": 129,
     "metadata": {},
     "output_type": "execute_result"
    }
   ],
   "source": [
    "counts"
   ]
  },
  {
   "cell_type": "markdown",
   "metadata": {},
   "source": [
    "# Balance and split data for train and test"
   ]
  },
  {
   "cell_type": "code",
   "execution_count": 201,
   "metadata": {},
   "outputs": [
    {
     "name": "stdout",
     "output_type": "stream",
     "text": [
      "(10000,)\n"
     ]
    }
   ],
   "source": [
    "X=df[['topic0', 'topic1', 'topic2', 'topic3', 'topic4', 'topic5',\n",
    "       'topic6', 'topic7', 'topic8', 'topic9', 'topic10', 'topic11', 'topic12',\n",
    "       'topic13', 'topic14', 'topic15', 'topic16', 'topic17', 'topic18',\n",
    "       'topic19', 'topic20', 'topic21', 'topic22', 'topic23', 'topic24',\n",
    "       'avg sentiment']]\n",
    "y=df['Genre_c']\n",
    "\n",
    "print(y.shape)"
   ]
  },
  {
   "cell_type": "code",
   "execution_count": 305,
   "metadata": {},
   "outputs": [
    {
     "name": "stdout",
     "output_type": "stream",
     "text": [
      "(10000,)\n"
     ]
    }
   ],
   "source": [
    "Xl=df_lsa[['topic0', 'topic1', 'topic2', 'topic3', 'topic4','topic5',\n",
    "       'topic6', 'topic7', 'topic8', 'topic9',\n",
    "       'avg sentiment']]\n",
    "yl=df_lsa['Genre_c']\n",
    "\n",
    "print(y.shape)"
   ]
  },
  {
   "cell_type": "markdown",
   "metadata": {
    "toc-hr-collapsed": false
   },
   "source": [
    "## Split data to train and test sets"
   ]
  },
  {
   "cell_type": "code",
   "execution_count": 202,
   "metadata": {},
   "outputs": [],
   "source": [
    "X_train, X_test, y_train, y_test = train_test_split(X, y, test_size=0.4, random_state=42,\n",
    "                                                     stratify=y)"
   ]
  },
  {
   "cell_type": "code",
   "execution_count": 203,
   "metadata": {},
   "outputs": [
    {
     "name": "stdout",
     "output_type": "stream",
     "text": [
      "(6000, 26)\n",
      "(6000,)\n"
     ]
    }
   ],
   "source": [
    "print(X_train.shape)\n",
    "print(y_train.shape)"
   ]
  },
  {
   "cell_type": "code",
   "execution_count": 204,
   "metadata": {},
   "outputs": [
    {
     "data": {
      "text/plain": [
       "Counter({'thriller': 510,\n",
       "         'musicals/dance': 305,\n",
       "         'horror': 489,\n",
       "         'drama': 745,\n",
       "         'animated': 416,\n",
       "         'adventure': 365,\n",
       "         'comedy': 729,\n",
       "         'crime': 517,\n",
       "         'action': 629,\n",
       "         'science fiction': 382,\n",
       "         'western': 416,\n",
       "         'romance': 497})"
      ]
     },
     "execution_count": 204,
     "metadata": {},
     "output_type": "execute_result"
    }
   ],
   "source": [
    "Counter(y_train)"
   ]
  },
  {
   "cell_type": "markdown",
   "metadata": {},
   "source": [
    "## Split data with LSA topics"
   ]
  },
  {
   "cell_type": "code",
   "execution_count": 306,
   "metadata": {},
   "outputs": [],
   "source": [
    "# try with lsa topics\n",
    "Xl_train, Xl_test, yl_train, yl_test = train_test_split(Xl, yl, test_size=0.4, random_state=42,\n",
    "                                                     stratify=y)"
   ]
  },
  {
   "cell_type": "markdown",
   "metadata": {},
   "source": [
    "## Try out sampling to balance classes"
   ]
  },
  {
   "cell_type": "markdown",
   "metadata": {},
   "source": [
    "### Use random over sampling"
   ]
  },
  {
   "cell_type": "code",
   "execution_count": 100,
   "metadata": {},
   "outputs": [],
   "source": [
    "# try using random over-sampling\n",
    "X_rand_resampled, y_rand_resampled = RandomOverSampler(random_state=42, \n",
    "    sampling_strategy='not majority').fit_sample(X_train, y_train)"
   ]
  },
  {
   "cell_type": "markdown",
   "metadata": {},
   "source": [
    "### Check counts after sampling"
   ]
  },
  {
   "cell_type": "code",
   "execution_count": 101,
   "metadata": {
    "scrolled": false
   },
   "outputs": [
    {
     "data": {
      "text/plain": [
       "Counter({'western': 241,\n",
       "         'epic/historical': 241,\n",
       "         'drama': 241,\n",
       "         'horror': 241,\n",
       "         'musicals/dance': 241,\n",
       "         'adventure': 241,\n",
       "         'documentary': 241,\n",
       "         'action': 241,\n",
       "         'science fiction': 241,\n",
       "         'fantasy': 241,\n",
       "         'thriller': 241,\n",
       "         'animated': 241,\n",
       "         'crime': 241,\n",
       "         'romantic comedy': 241,\n",
       "         'romance': 241,\n",
       "         'family': 241,\n",
       "         'comedy': 241})"
      ]
     },
     "execution_count": 101,
     "metadata": {},
     "output_type": "execute_result"
    }
   ],
   "source": [
    "Counter(y_rand_resampled)"
   ]
  },
  {
   "cell_type": "markdown",
   "metadata": {},
   "source": [
    "# Modeling"
   ]
  },
  {
   "cell_type": "markdown",
   "metadata": {},
   "source": [
    "## Multinomial Bayes with TFIDF"
   ]
  },
  {
   "cell_type": "code",
   "execution_count": 213,
   "metadata": {},
   "outputs": [],
   "source": [
    "tfidf_doc_word=pickle.load(open('../data/interim/tfidf.pkl', 'rb'))"
   ]
  },
  {
   "cell_type": "code",
   "execution_count": 219,
   "metadata": {},
   "outputs": [],
   "source": [
    "X2=tfidf_doc_word.toarray()"
   ]
  },
  {
   "cell_type": "code",
   "execution_count": 220,
   "metadata": {},
   "outputs": [],
   "source": [
    "X2_train, X2_test, y2_train, y2_test = train_test_split(X2, y, test_size=0.4, random_state=42,\n",
    "                                                     stratify=y)"
   ]
  },
  {
   "cell_type": "code",
   "execution_count": 221,
   "metadata": {},
   "outputs": [
    {
     "name": "stdout",
     "output_type": "stream",
     "text": [
      "(6000, 10000)\n",
      "(6000,)\n"
     ]
    }
   ],
   "source": [
    "print(X2_train.shape)\n",
    "print(y2_train.shape)"
   ]
  },
  {
   "cell_type": "code",
   "execution_count": 224,
   "metadata": {},
   "outputs": [],
   "source": [
    "multinb_model = MultinomialNB()\n",
    "\n",
    "y_pred = cross_val_predict(multinb_model, X2_train, y2_train, cv=3)"
   ]
  },
  {
   "cell_type": "code",
   "execution_count": 225,
   "metadata": {},
   "outputs": [
    {
     "name": "stdout",
     "output_type": "stream",
     "text": [
      "                 precision    recall  f1-score   support\n",
      "\n",
      "         action       0.35      0.62      0.45       629\n",
      "      adventure       0.82      0.06      0.12       365\n",
      "       animated       0.89      0.32      0.48       416\n",
      "         comedy       0.30      0.60      0.40       729\n",
      "          crime       0.64      0.26      0.37       517\n",
      "          drama       0.23      0.58      0.33       745\n",
      "         horror       0.68      0.60      0.63       489\n",
      " musicals/dance       0.00      0.00      0.00       305\n",
      "        romance       0.63      0.22      0.33       497\n",
      "science fiction       0.72      0.38      0.50       382\n",
      "       thriller       0.51      0.08      0.14       510\n",
      "        western       0.91      0.61      0.73       416\n",
      "\n",
      "      micro avg       0.40      0.40      0.40      6000\n",
      "      macro avg       0.56      0.36      0.37      6000\n",
      "   weighted avg       0.53      0.40      0.38      6000\n",
      "\n"
     ]
    },
    {
     "name": "stderr",
     "output_type": "stream",
     "text": [
      "/Users/pyt/Documents/envs/news_nlp/lib/python3.6/site-packages/sklearn/metrics/classification.py:1143: UndefinedMetricWarning: Precision and F-score are ill-defined and being set to 0.0 in labels with no predicted samples.\n",
      "  'precision', 'predicted', average, warn_for)\n"
     ]
    }
   ],
   "source": [
    "print(classification_report(y2_train, y_pred))"
   ]
  },
  {
   "cell_type": "markdown",
   "metadata": {},
   "source": [
    "## KNN"
   ]
  },
  {
   "cell_type": "code",
   "execution_count": 150,
   "metadata": {},
   "outputs": [
    {
     "name": "stdout",
     "output_type": "stream",
     "text": [
      "done in 0.007min.\n"
     ]
    }
   ],
   "source": [
    "t0 =time()\n",
    "knn = KNeighborsClassifier(n_neighbors=20)\n",
    "\n",
    "knn_pipe = imbPipeline([('undersample', RandomOverSampler(random_state=42, \n",
    "    sampling_strategy='not majority')),\n",
    "    ('knn', knn)])\n",
    "\n",
    "#knn_pipe = imbPipeline([('knn', knn)])\n",
    "\n",
    "# define the parameter values that should be searched\n",
    "k_range = list(range(10, 101,20))\n",
    "\n",
    "# create a parameter grid: map the parameter names to the values that should be searched\n",
    "param_grid = dict(knn__n_neighbors=k_range)\n",
    "\n",
    "knn_grid = GridSearchCV(knn_pipe, param_grid, return_train_score=False,\n",
    "                    n_jobs=-1, scoring='f1_macro', cv=3)\n",
    "\n",
    "knn_grid.fit(X_train, y_train)\n",
    "print(\"done in %0.3fmin.\" % ((time() - t0)/60))"
   ]
  },
  {
   "cell_type": "code",
   "execution_count": 151,
   "metadata": {},
   "outputs": [
    {
     "name": "stdout",
     "output_type": "stream",
     "text": [
      "{'knn__n_neighbors': 10}\n",
      "                 precision    recall  f1-score   support\n",
      "\n",
      "         action       0.37      0.36      0.37       629\n",
      "      adventure       0.26      0.46      0.33       365\n",
      "       animated       0.41      0.54      0.47       416\n",
      "         comedy       0.45      0.20      0.28       729\n",
      "          crime       0.42      0.43      0.42       517\n",
      "          drama       0.43      0.17      0.24       745\n",
      "         horror       0.35      0.45      0.39       489\n",
      " musicals/dance       0.35      0.62      0.44       305\n",
      "        romance       0.45      0.47      0.46       497\n",
      "science fiction       0.30      0.46      0.36       382\n",
      "       thriller       0.37      0.31      0.34       510\n",
      "        western       0.57      0.48      0.52       416\n",
      "\n",
      "      micro avg       0.38      0.38      0.38      6000\n",
      "      macro avg       0.39      0.41      0.39      6000\n",
      "   weighted avg       0.40      0.38      0.37      6000\n",
      "\n"
     ]
    }
   ],
   "source": [
    "# view the complete results (list of named tuples)\n",
    "print(knn_grid.best_params_)\n",
    "\n",
    "y_pred=knn_grid.predict(X_train)\n",
    "print(classification_report(y_train, y_pred))"
   ]
  },
  {
   "cell_type": "code",
   "execution_count": 152,
   "metadata": {},
   "outputs": [
    {
     "name": "stdout",
     "output_type": "stream",
     "text": [
      "                 precision    recall  f1-score   support\n",
      "\n",
      "         action       0.22      0.20      0.21       419\n",
      "      adventure       0.12      0.23      0.16       243\n",
      "       animated       0.20      0.27      0.23       277\n",
      "         comedy       0.23      0.11      0.15       486\n",
      "          crime       0.28      0.26      0.27       345\n",
      "          drama       0.20      0.07      0.11       497\n",
      "         horror       0.21      0.25      0.23       326\n",
      " musicals/dance       0.24      0.43      0.31       203\n",
      "        romance       0.33      0.35      0.34       332\n",
      "science fiction       0.11      0.17      0.13       254\n",
      "       thriller       0.15      0.14      0.15       340\n",
      "        western       0.36      0.31      0.33       278\n",
      "\n",
      "      micro avg       0.21      0.21      0.21      4000\n",
      "      macro avg       0.22      0.23      0.22      4000\n",
      "   weighted avg       0.22      0.21      0.21      4000\n",
      "\n"
     ]
    }
   ],
   "source": [
    "y_pred=knn_grid.predict(X_test)\n",
    "print(classification_report(y_test, y_pred))"
   ]
  },
  {
   "cell_type": "markdown",
   "metadata": {},
   "source": [
    "## GBM"
   ]
  },
  {
   "cell_type": "markdown",
   "metadata": {},
   "source": [
    "### Using NMF"
   ]
  },
  {
   "cell_type": "code",
   "execution_count": 205,
   "metadata": {},
   "outputs": [],
   "source": [
    "# Number of trees in random forest\n",
    "n_estimators = [int(x) for x in np.linspace(start = 200, stop = 2000, num = 5)]\n",
    "# Number of features to consider at every split\n",
    "max_features = ['sqrt']\n",
    "# Maximum number of levels in tree\n",
    "max_depth = [3,5,10]\n",
    "# Minimum number of samples required to split a node\n",
    "min_samples_split = [10, 20, 100]\n",
    "# Minimum number of samples required at each leaf node\n",
    "min_samples_leaf = [5, 10, 20]\n",
    "# Create the random grid\n",
    "gbm_param_grid = {'gbm__n_estimators': n_estimators,\n",
    "               'gbm__max_features': max_features,\n",
    "               'gbm__max_depth': max_depth,\n",
    "               'gbm__min_samples_split': min_samples_split,\n",
    "               'gbm__min_samples_leaf': min_samples_leaf}"
   ]
  },
  {
   "cell_type": "code",
   "execution_count": 296,
   "metadata": {},
   "outputs": [],
   "source": [
    "gbm = GradientBoostingClassifier(random_state=10, n_iter_no_change =5)\n",
    "\n",
    "gbm_pipe = imbPipeline([('oversample', RandomOverSampler(random_state=42, \n",
    "    sampling_strategy='not majority')),\n",
    "    ('gbm', gbm)])\n",
    "\n",
    "#gbm_pipe = imbPipeline([('gbm', gbm)])\n",
    "\n",
    "gbm_grid = RandomizedSearchCV(gbm_pipe, gbm_param_grid, return_train_score=False,\n",
    "                    n_jobs=-1, scoring='f1_weighted', cv=3,\n",
    "                        verbose=2, random_state=42, n_iter=5)"
   ]
  },
  {
   "cell_type": "code",
   "execution_count": 297,
   "metadata": {
    "scrolled": true
   },
   "outputs": [
    {
     "name": "stdout",
     "output_type": "stream",
     "text": [
      "Fitting 3 folds for each of 5 candidates, totalling 15 fits\n"
     ]
    },
    {
     "name": "stderr",
     "output_type": "stream",
     "text": [
      "[Parallel(n_jobs=-1)]: Using backend LokyBackend with 8 concurrent workers.\n",
      "[Parallel(n_jobs=-1)]: Done   8 out of  15 | elapsed:   24.2s remaining:   21.1s\n",
      "[Parallel(n_jobs=-1)]: Done  15 out of  15 | elapsed:   44.7s finished\n"
     ]
    },
    {
     "name": "stdout",
     "output_type": "stream",
     "text": [
      "done in 0.936min.\n"
     ]
    }
   ],
   "source": [
    "t0=time()\n",
    "gbm_grid.fit(X_train, y_train)\n",
    "print(\"done in %0.3fmin.\" % ((time() - t0)/60))"
   ]
  },
  {
   "cell_type": "code",
   "execution_count": 298,
   "metadata": {
    "scrolled": true
   },
   "outputs": [
    {
     "name": "stdout",
     "output_type": "stream",
     "text": [
      "{'gbm__n_estimators': 1550, 'gbm__min_samples_split': 20, 'gbm__min_samples_leaf': 5, 'gbm__max_features': 'sqrt', 'gbm__max_depth': 10}\n",
      "                 precision    recall  f1-score   support\n",
      "\n",
      "         action       0.96      0.96      0.96       629\n",
      "      adventure       0.96      0.96      0.96       365\n",
      "       animated       0.97      0.97      0.97       416\n",
      "         comedy       0.95      0.93      0.94       729\n",
      "          crime       0.94      0.95      0.94       517\n",
      "          drama       0.92      0.92      0.92       745\n",
      "         horror       0.96      0.96      0.96       489\n",
      " musicals/dance       0.96      0.98      0.97       305\n",
      "        romance       0.96      0.97      0.96       497\n",
      "science fiction       0.96      0.98      0.97       382\n",
      "       thriller       0.94      0.94      0.94       510\n",
      "        western       0.99      0.98      0.99       416\n",
      "\n",
      "      micro avg       0.95      0.95      0.95      6000\n",
      "      macro avg       0.96      0.96      0.96      6000\n",
      "   weighted avg       0.95      0.95      0.95      6000\n",
      "\n",
      "f1_weighted: 0.4270656608229185\n"
     ]
    }
   ],
   "source": [
    "print(gbm_grid.best_params_)\n",
    "gbm_y_pred=gbm_grid.predict(X_train)\n",
    "print(classification_report(y_train, gbm_y_pred))\n",
    "print('f1_weighted: '+str(gbm_grid.best_score_))"
   ]
  },
  {
   "cell_type": "code",
   "execution_count": 299,
   "metadata": {},
   "outputs": [
    {
     "name": "stdout",
     "output_type": "stream",
     "text": [
      "                 precision    recall  f1-score   support\n",
      "\n",
      "         action       0.39      0.43      0.41       419\n",
      "      adventure       0.50      0.30      0.37       243\n",
      "       animated       0.62      0.60      0.61       277\n",
      "         comedy       0.28      0.29      0.29       486\n",
      "          crime       0.42      0.43      0.43       345\n",
      "          drama       0.26      0.31      0.28       497\n",
      "         horror       0.59      0.60      0.60       326\n",
      " musicals/dance       0.50      0.49      0.50       203\n",
      "        romance       0.40      0.39      0.40       332\n",
      "science fiction       0.58      0.59      0.58       254\n",
      "       thriller       0.29      0.25      0.27       340\n",
      "        western       0.72      0.72      0.72       278\n",
      "\n",
      "      micro avg       0.43      0.43      0.43      4000\n",
      "      macro avg       0.46      0.45      0.45      4000\n",
      "   weighted avg       0.44      0.43      0.43      4000\n",
      "\n"
     ]
    }
   ],
   "source": [
    "gbm_ytest_pred=gbm_grid.predict(X_test)\n",
    "print(classification_report(y_test, gbm_ytest_pred))"
   ]
  },
  {
   "cell_type": "code",
   "execution_count": 115,
   "metadata": {},
   "outputs": [],
   "source": [
    "best_gbm=gbm_grid.best_estimator_.named_steps.gbm"
   ]
  },
  {
   "cell_type": "code",
   "execution_count": 116,
   "metadata": {},
   "outputs": [],
   "source": [
    "pickle.dump(best_gbm, open('../models/best_gbm.pkl', 'wb'))"
   ]
  },
  {
   "cell_type": "markdown",
   "metadata": {},
   "source": [
    "### Using LSA"
   ]
  },
  {
   "cell_type": "code",
   "execution_count": 307,
   "metadata": {},
   "outputs": [],
   "source": [
    "gbm_lsa_grid = RandomizedSearchCV(gbm_pipe, gbm_param_grid, return_train_score=True,\n",
    "                    n_jobs=-1, scoring='f1_weighted', cv=3,\n",
    "                        verbose=2, random_state=42, n_iter=5)"
   ]
  },
  {
   "cell_type": "code",
   "execution_count": 308,
   "metadata": {
    "scrolled": true
   },
   "outputs": [
    {
     "name": "stdout",
     "output_type": "stream",
     "text": [
      "Fitting 3 folds for each of 5 candidates, totalling 15 fits\n"
     ]
    },
    {
     "name": "stderr",
     "output_type": "stream",
     "text": [
      "[Parallel(n_jobs=-1)]: Using backend LokyBackend with 8 concurrent workers.\n",
      "[Parallel(n_jobs=-1)]: Done   8 out of  15 | elapsed:   15.5s remaining:   13.6s\n",
      "[Parallel(n_jobs=-1)]: Done  15 out of  15 | elapsed:   39.0s finished\n"
     ]
    },
    {
     "name": "stdout",
     "output_type": "stream",
     "text": [
      "done in 0.891min.\n"
     ]
    }
   ],
   "source": [
    "t0=time()\n",
    "gbm_lsa_grid.fit(Xl_train, yl_train)\n",
    "print(\"done in %0.3fmin.\" % ((time() - t0)/60))"
   ]
  },
  {
   "cell_type": "code",
   "execution_count": 309,
   "metadata": {
    "scrolled": true
   },
   "outputs": [
    {
     "name": "stdout",
     "output_type": "stream",
     "text": [
      "{'gbm__n_estimators': 1100, 'gbm__min_samples_split': 20, 'gbm__min_samples_leaf': 10, 'gbm__max_features': 'sqrt', 'gbm__max_depth': 5}\n",
      "                 precision    recall  f1-score   support\n",
      "\n",
      "         action       0.95      0.95      0.95       629\n",
      "      adventure       0.94      0.95      0.95       365\n",
      "       animated       0.97      0.96      0.97       416\n",
      "         comedy       0.94      0.93      0.93       729\n",
      "          crime       0.95      0.96      0.95       517\n",
      "          drama       0.94      0.90      0.92       745\n",
      "         horror       0.97      0.97      0.97       489\n",
      " musicals/dance       0.95      0.98      0.96       305\n",
      "        romance       0.94      0.96      0.95       497\n",
      "science fiction       0.95      0.98      0.97       382\n",
      "       thriller       0.94      0.94      0.94       510\n",
      "        western       0.98      0.99      0.99       416\n",
      "\n",
      "      micro avg       0.95      0.95      0.95      6000\n",
      "      macro avg       0.95      0.96      0.95      6000\n",
      "   weighted avg       0.95      0.95      0.95      6000\n",
      "\n",
      "f1_weighted: 0.41459219152784527\n"
     ]
    }
   ],
   "source": [
    "print(gbm_lsa_grid.best_params_)\n",
    "gbm_lsa_y_pred=gbm_lsa_grid.predict(Xl_train)\n",
    "print(classification_report(yl_train, gbm_lsa_y_pred))\n",
    "print('f1_weighted: '+str(gbm_lsa_grid.best_score_))"
   ]
  },
  {
   "cell_type": "code",
   "execution_count": 310,
   "metadata": {},
   "outputs": [
    {
     "name": "stdout",
     "output_type": "stream",
     "text": [
      "                 precision    recall  f1-score   support\n",
      "\n",
      "         action       0.40      0.44      0.42       419\n",
      "      adventure       0.37      0.35      0.36       243\n",
      "       animated       0.63      0.56      0.59       277\n",
      "         comedy       0.29      0.32      0.31       486\n",
      "          crime       0.43      0.46      0.44       345\n",
      "          drama       0.27      0.25      0.26       497\n",
      "         horror       0.60      0.61      0.61       326\n",
      " musicals/dance       0.34      0.29      0.31       203\n",
      "        romance       0.42      0.46      0.44       332\n",
      "science fiction       0.53      0.55      0.54       254\n",
      "       thriller       0.32      0.28      0.30       340\n",
      "        western       0.72      0.72      0.72       278\n",
      "\n",
      "      micro avg       0.43      0.43      0.43      4000\n",
      "      macro avg       0.44      0.44      0.44      4000\n",
      "   weighted avg       0.43      0.43      0.43      4000\n",
      "\n"
     ]
    }
   ],
   "source": [
    "gbm_lsa_ytest_pred=gbm_lsa_grid.predict(Xl_test)\n",
    "print(classification_report(yl_test, gbm_lsa_ytest_pred))"
   ]
  },
  {
   "cell_type": "code",
   "execution_count": 115,
   "metadata": {},
   "outputs": [],
   "source": [
    "best_gbm=gbm_grid.best_estimator_.named_steps.gbm"
   ]
  },
  {
   "cell_type": "markdown",
   "metadata": {},
   "source": [
    "## Random Forest (Best)"
   ]
  },
  {
   "cell_type": "code",
   "execution_count": 335,
   "metadata": {},
   "outputs": [],
   "source": [
    "# Number of trees in random forest\n",
    "n_estimators = [int(x) for x in np.linspace(start = 200, stop = 2000, num = 10)]\n",
    "# Number of features to consider at every split\n",
    "max_features = ['auto', 'sqrt']\n",
    "# Maximum number of levels in tree\n",
    "max_depth = [int(x) for x in np.linspace(10, 110, num = 11)]\n",
    "max_depth.append(None)\n",
    "# Minimum number of samples required to split a node\n",
    "min_samples_split = [10, 20, 30]\n",
    "# Minimum number of samples required at each leaf node\n",
    "min_samples_leaf = [10, 50, 100]\n",
    "# Create the random grid\n",
    "random_grid = {'forest__n_estimators': n_estimators,\n",
    "               'forest__max_features': max_features,\n",
    "               'forest__max_depth': max_depth,\n",
    "               'forest__min_samples_split': min_samples_split,\n",
    "               'forest__min_samples_leaf': min_samples_leaf}"
   ]
  },
  {
   "cell_type": "code",
   "execution_count": 344,
   "metadata": {},
   "outputs": [],
   "source": [
    "forest_clf=RandomForestClassifier()\n",
    "forest_pipe = imbPipeline([('oversample', RandomOverSampler(random_state=42, \n",
    "    sampling_strategy='not majority')),\n",
    "    ('forest', forest_clf)])\n",
    "rf_random = RandomizedSearchCV(forest_pipe, param_distributions = random_grid, n_iter = 10, \n",
    "                               cv = 3, verbose=2,scoring='f1_micro', random_state=42, n_jobs = -1)"
   ]
  },
  {
   "cell_type": "code",
   "execution_count": 345,
   "metadata": {},
   "outputs": [
    {
     "name": "stdout",
     "output_type": "stream",
     "text": [
      "Fitting 3 folds for each of 10 candidates, totalling 30 fits\n"
     ]
    },
    {
     "name": "stderr",
     "output_type": "stream",
     "text": [
      "[Parallel(n_jobs=-1)]: Using backend LokyBackend with 8 concurrent workers.\n",
      "[Parallel(n_jobs=-1)]: Done  30 out of  30 | elapsed:  1.0min finished\n"
     ]
    },
    {
     "data": {
      "text/plain": [
       "RandomizedSearchCV(cv=3, error_score='raise-deprecating',\n",
       "          estimator=Pipeline(memory=None,\n",
       "     steps=[('oversample', RandomOverSampler(random_state=42, ratio=None, return_indices=False,\n",
       "         sampling_strategy='not majority')), ('forest', RandomForestClassifier(bootstrap=True, class_weight=None, criterion='gini',\n",
       "            max_depth=None, max_features='auto', max_leaf_nodes=None,\n",
       "       ...obs=None,\n",
       "            oob_score=False, random_state=None, verbose=0,\n",
       "            warm_start=False))]),\n",
       "          fit_params=None, iid='warn', n_iter=10, n_jobs=-1,\n",
       "          param_distributions={'forest__n_estimators': [200, 400, 600, 800, 1000, 1200, 1400, 1600, 1800, 2000], 'forest__max_features': ['auto', 'sqrt'], 'forest__max_depth': [10, 20, 30, 40, 50, 60, 70, 80, 90, 100, 110, None], 'forest__min_samples_split': [10, 20, 30], 'forest__min_samples_leaf': [10, 50, 100]},\n",
       "          pre_dispatch='2*n_jobs', random_state=42, refit=True,\n",
       "          return_train_score='warn', scoring='f1_micro', verbose=2)"
      ]
     },
     "execution_count": 345,
     "metadata": {},
     "output_type": "execute_result"
    }
   ],
   "source": [
    "rf_random.fit(X_train, y_train)"
   ]
  },
  {
   "cell_type": "code",
   "execution_count": 347,
   "metadata": {},
   "outputs": [
    {
     "name": "stdout",
     "output_type": "stream",
     "text": [
      "{'forest__n_estimators': 1400, 'forest__min_samples_split': 20, 'forest__min_samples_leaf': 10, 'forest__max_features': 'sqrt', 'forest__max_depth': 30}\n",
      "                 precision    recall  f1-score   support\n",
      "\n",
      "         action       0.81      0.66      0.72       629\n",
      "      adventure       0.71      0.84      0.77       365\n",
      "       animated       0.80      0.80      0.80       416\n",
      "         comedy       0.82      0.54      0.65       729\n",
      "          crime       0.65      0.82      0.72       517\n",
      "          drama       0.85      0.48      0.61       745\n",
      "         horror       0.74      0.85      0.80       489\n",
      " musicals/dance       0.64      0.88      0.74       305\n",
      "        romance       0.64      0.81      0.72       497\n",
      "science fiction       0.69      0.87      0.77       382\n",
      "       thriller       0.80      0.71      0.75       510\n",
      "        western       0.70      0.92      0.79       416\n",
      "\n",
      "      micro avg       0.73      0.73      0.73      6000\n",
      "      macro avg       0.74      0.76      0.74      6000\n",
      "   weighted avg       0.75      0.73      0.73      6000\n",
      "\n",
      "f1_weighted: 0.43966666666666665\n"
     ]
    }
   ],
   "source": [
    "print(rf_random.best_params_)\n",
    "\n",
    "y_pred=rf_random.predict(X_train)\n",
    "print(classification_report(y_train, y_pred))\n",
    "print('f1_weighted: '+str(rf_random.best_score_))"
   ]
  },
  {
   "cell_type": "code",
   "execution_count": 348,
   "metadata": {
    "scrolled": true
   },
   "outputs": [
    {
     "name": "stdout",
     "output_type": "stream",
     "text": [
      "                 precision    recall  f1-score   support\n",
      "\n",
      "         action       0.48      0.38      0.43       419\n",
      "      adventure       0.39      0.45      0.42       243\n",
      "       animated       0.56      0.60      0.58       277\n",
      "         comedy       0.36      0.24      0.29       486\n",
      "          crime       0.42      0.59      0.49       345\n",
      "          drama       0.33      0.15      0.21       497\n",
      "         horror       0.51      0.61      0.56       326\n",
      " musicals/dance       0.43      0.61      0.51       203\n",
      "        romance       0.40      0.54      0.46       332\n",
      "science fiction       0.53      0.66      0.58       254\n",
      "       thriller       0.30      0.22      0.26       340\n",
      "        western       0.62      0.79      0.70       278\n",
      "\n",
      "      micro avg       0.45      0.45      0.45      4000\n",
      "      macro avg       0.44      0.49      0.46      4000\n",
      "   weighted avg       0.43      0.45      0.43      4000\n",
      "\n",
      "f1_weighted: 0.43966666666666665\n"
     ]
    }
   ],
   "source": [
    "ytest_pred=rf_random.predict(X_test)\n",
    "print(classification_report(y_test, ytest_pred))\n",
    "print('f1_weighted: '+str(rf_random.best_score_))"
   ]
  },
  {
   "cell_type": "code",
   "execution_count": 175,
   "metadata": {},
   "outputs": [],
   "source": [
    "best_rf=rf_random.best_estimator_.named_steps.forest"
   ]
  },
  {
   "cell_type": "code",
   "execution_count": 176,
   "metadata": {},
   "outputs": [],
   "source": [
    "pickle.dump(best_rf, open('../models/best_rf.pkl', 'wb'))"
   ]
  },
  {
   "cell_type": "markdown",
   "metadata": {},
   "source": [
    "### Try without sampling"
   ]
  },
  {
   "cell_type": "code",
   "execution_count": 320,
   "metadata": {},
   "outputs": [],
   "source": [
    "forest_clf=RandomForestClassifier(class_weight='balanced_subsample')\n",
    "forest_pipe = imbPipeline([('forest', forest_clf)])\n",
    "rf_random_sm = RandomizedSearchCV(forest_pipe, param_distributions = random_grid, n_iter = 10, \n",
    "                               cv = 3, verbose=2, scoring='f1_weighted', random_state=42, n_jobs = -1)"
   ]
  },
  {
   "cell_type": "code",
   "execution_count": 321,
   "metadata": {},
   "outputs": [
    {
     "name": "stdout",
     "output_type": "stream",
     "text": [
      "Fitting 3 folds for each of 10 candidates, totalling 30 fits\n"
     ]
    },
    {
     "name": "stderr",
     "output_type": "stream",
     "text": [
      "[Parallel(n_jobs=-1)]: Using backend LokyBackend with 8 concurrent workers.\n",
      "[Parallel(n_jobs=-1)]: Done  30 out of  30 | elapsed:   54.4s finished\n"
     ]
    },
    {
     "data": {
      "text/plain": [
       "RandomizedSearchCV(cv=3, error_score='raise-deprecating',\n",
       "          estimator=Pipeline(memory=None,\n",
       "     steps=[('forest', RandomForestClassifier(bootstrap=True, class_weight='balanced_subsample',\n",
       "            criterion='gini', max_depth=None, max_features='auto',\n",
       "            max_leaf_nodes=None, min_impurity_decrease=0.0,\n",
       "            min_impurity_split=None, min_sam...'warn', n_jobs=None, oob_score=False,\n",
       "            random_state=None, verbose=0, warm_start=False))]),\n",
       "          fit_params=None, iid='warn', n_iter=10, n_jobs=-1,\n",
       "          param_distributions={'forest__n_estimators': [200, 400, 600, 800, 1000, 1200, 1400, 1600, 1800, 2000], 'forest__max_features': ['auto', 'sqrt'], 'forest__max_depth': [10, 20, 30, 40, 50, 60, 70, 80, 90, 100, 110, None], 'forest__min_samples_split': [10, 20, 30], 'forest__min_samples_leaf': [10, 50, 100]},\n",
       "          pre_dispatch='2*n_jobs', random_state=42, refit=True,\n",
       "          return_train_score='warn', scoring='f1_weighted', verbose=2)"
      ]
     },
     "execution_count": 321,
     "metadata": {},
     "output_type": "execute_result"
    }
   ],
   "source": [
    "rf_random_sm.fit(X_train, y_train)"
   ]
  },
  {
   "cell_type": "code",
   "execution_count": 322,
   "metadata": {},
   "outputs": [
    {
     "name": "stdout",
     "output_type": "stream",
     "text": [
      "{'forest__n_estimators': 1400, 'forest__min_samples_split': 20, 'forest__min_samples_leaf': 10, 'forest__max_features': 'sqrt', 'forest__max_depth': 30}\n",
      "                 precision    recall  f1-score   support\n",
      "\n",
      "         action       0.75      0.59      0.66       629\n",
      "      adventure       0.60      0.78      0.68       365\n",
      "       animated       0.74      0.75      0.75       416\n",
      "         comedy       0.77      0.44      0.56       729\n",
      "          crime       0.60      0.79      0.68       517\n",
      "          drama       0.82      0.41      0.55       745\n",
      "         horror       0.71      0.81      0.75       489\n",
      " musicals/dance       0.54      0.81      0.65       305\n",
      "        romance       0.59      0.77      0.67       497\n",
      "science fiction       0.63      0.83      0.72       382\n",
      "       thriller       0.77      0.62      0.68       510\n",
      "        western       0.65      0.89      0.75       416\n",
      "\n",
      "      micro avg       0.67      0.67      0.67      6000\n",
      "      macro avg       0.68      0.71      0.67      6000\n",
      "   weighted avg       0.70      0.67      0.66      6000\n",
      "\n",
      "f1_weighted: 0.4192227578522992\n"
     ]
    }
   ],
   "source": [
    "print(rf_random_sm.best_params_)\n",
    "\n",
    "y_pred=rf_random_sm.predict(X_train)\n",
    "print(classification_report(y_train, y_pred))\n",
    "print('f1_weighted: '+str(rf_random_sm.best_score_))"
   ]
  },
  {
   "cell_type": "code",
   "execution_count": 323,
   "metadata": {
    "scrolled": true
   },
   "outputs": [
    {
     "name": "stdout",
     "output_type": "stream",
     "text": [
      "                 precision    recall  f1-score   support\n",
      "\n",
      "         action       0.46      0.35      0.40       419\n",
      "      adventure       0.36      0.44      0.39       243\n",
      "       animated       0.54      0.59      0.56       277\n",
      "         comedy       0.35      0.23      0.28       486\n",
      "          crime       0.41      0.59      0.48       345\n",
      "          drama       0.34      0.15      0.21       497\n",
      "         horror       0.51      0.60      0.55       326\n",
      " musicals/dance       0.41      0.61      0.49       203\n",
      "        romance       0.39      0.54      0.45       332\n",
      "science fiction       0.51      0.65      0.57       254\n",
      "       thriller       0.31      0.20      0.25       340\n",
      "        western       0.61      0.78      0.68       278\n",
      "\n",
      "      micro avg       0.44      0.44      0.44      4000\n",
      "      macro avg       0.43      0.48      0.44      4000\n",
      "   weighted avg       0.42      0.44      0.42      4000\n",
      "\n"
     ]
    }
   ],
   "source": [
    "ytest_pred=rf_random_sm.predict(X_test)\n",
    "print(classification_report(y_test, ytest_pred))"
   ]
  }
 ],
 "metadata": {
  "kernelspec": {
   "display_name": "Python 3",
   "language": "python",
   "name": "python3"
  },
  "language_info": {
   "codemirror_mode": {
    "name": "ipython",
    "version": 3
   },
   "file_extension": ".py",
   "mimetype": "text/x-python",
   "name": "python",
   "nbconvert_exporter": "python",
   "pygments_lexer": "ipython3",
   "version": "3.6.8"
  },
  "toc": {
   "base_numbering": 1,
   "nav_menu": {},
   "number_sections": true,
   "sideBar": true,
   "skip_h1_title": false,
   "title_cell": "Table of Contents",
   "title_sidebar": "Contents",
   "toc_cell": false,
   "toc_position": {
    "height": "calc(100% - 180px)",
    "left": "10px",
    "top": "150px",
    "width": "203.594px"
   },
   "toc_section_display": true,
   "toc_window_display": false
  },
  "toc-autonumbering": true,
  "toc-showtags": false
 },
 "nbformat": 4,
 "nbformat_minor": 2
}
